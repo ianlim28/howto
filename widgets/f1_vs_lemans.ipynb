{
  "nbformat": 4,
  "nbformat_minor": 0,
  "metadata": {
    "colab": {
      "name": "f1_vs_lemans.ipynb",
      "provenance": []
    },
    "kernelspec": {
      "name": "python3",
      "display_name": "Python 3"
    },
    "widgets": {
      "application/vnd.jupyter.widget-state+json": {
        "77677603663c49b78cf5dca4afb28cea": {
          "model_module": "@jupyter-widgets/controls",
          "model_name": "FileUploadModel",
          "state": {
            "_view_name": "FileUploadView",
            "_counter": 1,
            "style": "IPY_MODEL_2732246db9b743dba01d8f23a8ca1a86",
            "_dom_classes": [],
            "description": "Upload",
            "multiple": false,
            "_model_name": "FileUploadModel",
            "data": [
              null
            ],
            "button_style": "",
            "_view_module": "@jupyter-widgets/controls",
            "_model_module_version": "1.5.0",
            "accept": "",
            "_view_count": null,
            "disabled": false,
            "_view_module_version": "1.5.0",
            "error": "",
            "description_tooltip": null,
            "metadata": [
              {
                "name": "lewis.jpg",
                "type": "image/jpeg",
                "size": 62053,
                "lastModified": 1601020705759
              }
            ],
            "_model_module": "@jupyter-widgets/controls",
            "layout": "IPY_MODEL_6333b4167ae6433ca548496fd77c66f3",
            "icon": "upload"
          }
        },
        "2732246db9b743dba01d8f23a8ca1a86": {
          "model_module": "@jupyter-widgets/controls",
          "model_name": "ButtonStyleModel",
          "state": {
            "_view_name": "StyleView",
            "_model_name": "ButtonStyleModel",
            "_view_module": "@jupyter-widgets/base",
            "_model_module_version": "1.5.0",
            "_view_count": null,
            "button_color": null,
            "font_weight": "",
            "_view_module_version": "1.2.0",
            "_model_module": "@jupyter-widgets/controls"
          }
        },
        "6333b4167ae6433ca548496fd77c66f3": {
          "model_module": "@jupyter-widgets/base",
          "model_name": "LayoutModel",
          "state": {
            "_view_name": "LayoutView",
            "grid_template_rows": null,
            "right": null,
            "justify_content": null,
            "_view_module": "@jupyter-widgets/base",
            "overflow": null,
            "_model_module_version": "1.2.0",
            "_view_count": null,
            "flex_flow": null,
            "width": null,
            "min_width": null,
            "border": null,
            "align_items": null,
            "bottom": null,
            "_model_module": "@jupyter-widgets/base",
            "top": null,
            "grid_column": null,
            "overflow_y": null,
            "overflow_x": null,
            "grid_auto_flow": null,
            "grid_area": null,
            "grid_template_columns": null,
            "flex": null,
            "_model_name": "LayoutModel",
            "justify_items": null,
            "grid_row": null,
            "max_height": null,
            "align_content": null,
            "visibility": null,
            "align_self": null,
            "height": null,
            "min_height": null,
            "padding": null,
            "grid_auto_rows": null,
            "grid_gap": null,
            "max_width": null,
            "order": null,
            "_view_module_version": "1.2.0",
            "grid_template_areas": null,
            "object_position": null,
            "object_fit": null,
            "grid_auto_columns": null,
            "margin": null,
            "display": null,
            "left": null
          }
        },
        "31873e7ff8734bccbf3b4e1290c2cffc": {
          "model_module": "@jupyter-widgets/output",
          "model_name": "OutputModel",
          "state": {
            "_view_name": "OutputView",
            "msg_id": "",
            "_dom_classes": [],
            "_model_name": "OutputModel",
            "outputs": [
              {
                "output_type": "display_data",
                "metadata": {
                  "tags": []
                },
                "image/png": "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\n",
                "text/plain": "<PIL.Image.Image image mode=RGB size=128x72 at 0x7F6C5B5ECC18>"
              }
            ],
            "_view_module": "@jupyter-widgets/output",
            "_model_module_version": "1.0.0",
            "_view_count": null,
            "_view_module_version": "1.0.0",
            "layout": "IPY_MODEL_11643438504e4f8abd8b3580d9de7f0e",
            "_model_module": "@jupyter-widgets/output"
          }
        },
        "11643438504e4f8abd8b3580d9de7f0e": {
          "model_module": "@jupyter-widgets/base",
          "model_name": "LayoutModel",
          "state": {
            "_view_name": "LayoutView",
            "grid_template_rows": null,
            "right": null,
            "justify_content": null,
            "_view_module": "@jupyter-widgets/base",
            "overflow": null,
            "_model_module_version": "1.2.0",
            "_view_count": null,
            "flex_flow": null,
            "width": null,
            "min_width": null,
            "border": null,
            "align_items": null,
            "bottom": null,
            "_model_module": "@jupyter-widgets/base",
            "top": null,
            "grid_column": null,
            "overflow_y": null,
            "overflow_x": null,
            "grid_auto_flow": null,
            "grid_area": null,
            "grid_template_columns": null,
            "flex": null,
            "_model_name": "LayoutModel",
            "justify_items": null,
            "grid_row": null,
            "max_height": null,
            "align_content": null,
            "visibility": null,
            "align_self": null,
            "height": null,
            "min_height": null,
            "padding": null,
            "grid_auto_rows": null,
            "grid_gap": null,
            "max_width": null,
            "order": null,
            "_view_module_version": "1.2.0",
            "grid_template_areas": null,
            "object_position": null,
            "object_fit": null,
            "grid_auto_columns": null,
            "margin": null,
            "display": null,
            "left": null
          }
        },
        "735b026da95d457f9dcd8b1026a1491d": {
          "model_module": "@jupyter-widgets/controls",
          "model_name": "VBoxModel",
          "state": {
            "_view_name": "VBoxView",
            "_dom_classes": [],
            "_model_name": "VBoxModel",
            "_view_module": "@jupyter-widgets/controls",
            "_model_module_version": "1.5.0",
            "_view_count": null,
            "_view_module_version": "1.5.0",
            "box_style": "",
            "layout": "IPY_MODEL_399266dea0c74a389a3b8e26c736b3eb",
            "_model_module": "@jupyter-widgets/controls",
            "children": [
              "IPY_MODEL_acbf0cef574847ff9931c1ef6d719f5e",
              "IPY_MODEL_e5181ecab18b4575861a6572057c5b74",
              "IPY_MODEL_fbe69cf6085b45b7ad2ad04403b3d3cd",
              "IPY_MODEL_31873e7ff8734bccbf3b4e1290c2cffc",
              "IPY_MODEL_a08aa9884fc644868ce531fca34d8d9d"
            ]
          }
        },
        "399266dea0c74a389a3b8e26c736b3eb": {
          "model_module": "@jupyter-widgets/base",
          "model_name": "LayoutModel",
          "state": {
            "_view_name": "LayoutView",
            "grid_template_rows": null,
            "right": null,
            "justify_content": null,
            "_view_module": "@jupyter-widgets/base",
            "overflow": null,
            "_model_module_version": "1.2.0",
            "_view_count": null,
            "flex_flow": null,
            "width": null,
            "min_width": null,
            "border": null,
            "align_items": null,
            "bottom": null,
            "_model_module": "@jupyter-widgets/base",
            "top": null,
            "grid_column": null,
            "overflow_y": null,
            "overflow_x": null,
            "grid_auto_flow": null,
            "grid_area": null,
            "grid_template_columns": null,
            "flex": null,
            "_model_name": "LayoutModel",
            "justify_items": null,
            "grid_row": null,
            "max_height": null,
            "align_content": null,
            "visibility": null,
            "align_self": null,
            "height": null,
            "min_height": null,
            "padding": null,
            "grid_auto_rows": null,
            "grid_gap": null,
            "max_width": null,
            "order": null,
            "_view_module_version": "1.2.0",
            "grid_template_areas": null,
            "object_position": null,
            "object_fit": null,
            "grid_auto_columns": null,
            "margin": null,
            "display": null,
            "left": null
          }
        },
        "acbf0cef574847ff9931c1ef6d719f5e": {
          "model_module": "@jupyter-widgets/controls",
          "model_name": "LabelModel",
          "state": {
            "_view_name": "LabelView",
            "style": "IPY_MODEL_df3023e65c604536b5ea7861e18738bb",
            "_dom_classes": [],
            "description": "",
            "_model_name": "LabelModel",
            "placeholder": "​",
            "_view_module": "@jupyter-widgets/controls",
            "_model_module_version": "1.5.0",
            "value": "Select your car!",
            "_view_count": null,
            "_view_module_version": "1.5.0",
            "description_tooltip": null,
            "_model_module": "@jupyter-widgets/controls",
            "layout": "IPY_MODEL_addc39d0c88b41cbb811a7594e137e2b"
          }
        },
        "e5181ecab18b4575861a6572057c5b74": {
          "model_module": "@jupyter-widgets/controls",
          "model_name": "FileUploadModel",
          "state": {
            "_view_name": "FileUploadView",
            "_counter": 1,
            "style": "IPY_MODEL_a0353081ad2446a2b90b07ec3c2b7680",
            "_dom_classes": [],
            "description": "Upload",
            "multiple": false,
            "_model_name": "FileUploadModel",
            "data": [
              null
            ],
            "button_style": "",
            "_view_module": "@jupyter-widgets/controls",
            "_model_module_version": "1.5.0",
            "accept": "",
            "_view_count": null,
            "disabled": false,
            "_view_module_version": "1.5.0",
            "error": "",
            "description_tooltip": null,
            "metadata": [
              {
                "name": "fernandoalonso.jpg",
                "type": "image/jpeg",
                "size": 34811,
                "lastModified": 1601019816138
              }
            ],
            "_model_module": "@jupyter-widgets/controls",
            "layout": "IPY_MODEL_9f5c95ed650e448c81687dee961ec638",
            "icon": "upload"
          }
        },
        "fbe69cf6085b45b7ad2ad04403b3d3cd": {
          "model_module": "@jupyter-widgets/controls",
          "model_name": "ButtonModel",
          "state": {
            "_view_name": "ButtonView",
            "style": "IPY_MODEL_6b0849f2f9b04b17a73f8439df47053f",
            "_dom_classes": [],
            "description": "Classify",
            "_model_name": "ButtonModel",
            "button_style": "",
            "_view_module": "@jupyter-widgets/controls",
            "_model_module_version": "1.5.0",
            "tooltip": "",
            "_view_count": null,
            "disabled": false,
            "_view_module_version": "1.5.0",
            "layout": "IPY_MODEL_22018e857ba8417d89debfff3c56fd12",
            "_model_module": "@jupyter-widgets/controls",
            "icon": ""
          }
        },
        "a08aa9884fc644868ce531fca34d8d9d": {
          "model_module": "@jupyter-widgets/controls",
          "model_name": "LabelModel",
          "state": {
            "_view_name": "LabelView",
            "style": "IPY_MODEL_a4afc207d38e4c31908b1f7c3989e3c0",
            "_dom_classes": [],
            "description": "",
            "_model_name": "LabelModel",
            "placeholder": "​",
            "_view_module": "@jupyter-widgets/controls",
            "_model_module_version": "1.5.0",
            "value": "Prediction: formula_one; Probability: 0.9999",
            "_view_count": null,
            "_view_module_version": "1.5.0",
            "description_tooltip": null,
            "_model_module": "@jupyter-widgets/controls",
            "layout": "IPY_MODEL_d1022dca900549e3b68fba088f242a06"
          }
        },
        "df3023e65c604536b5ea7861e18738bb": {
          "model_module": "@jupyter-widgets/controls",
          "model_name": "DescriptionStyleModel",
          "state": {
            "_view_name": "StyleView",
            "_model_name": "DescriptionStyleModel",
            "description_width": "",
            "_view_module": "@jupyter-widgets/base",
            "_model_module_version": "1.5.0",
            "_view_count": null,
            "_view_module_version": "1.2.0",
            "_model_module": "@jupyter-widgets/controls"
          }
        },
        "addc39d0c88b41cbb811a7594e137e2b": {
          "model_module": "@jupyter-widgets/base",
          "model_name": "LayoutModel",
          "state": {
            "_view_name": "LayoutView",
            "grid_template_rows": null,
            "right": null,
            "justify_content": null,
            "_view_module": "@jupyter-widgets/base",
            "overflow": null,
            "_model_module_version": "1.2.0",
            "_view_count": null,
            "flex_flow": null,
            "width": null,
            "min_width": null,
            "border": null,
            "align_items": null,
            "bottom": null,
            "_model_module": "@jupyter-widgets/base",
            "top": null,
            "grid_column": null,
            "overflow_y": null,
            "overflow_x": null,
            "grid_auto_flow": null,
            "grid_area": null,
            "grid_template_columns": null,
            "flex": null,
            "_model_name": "LayoutModel",
            "justify_items": null,
            "grid_row": null,
            "max_height": null,
            "align_content": null,
            "visibility": null,
            "align_self": null,
            "height": null,
            "min_height": null,
            "padding": null,
            "grid_auto_rows": null,
            "grid_gap": null,
            "max_width": null,
            "order": null,
            "_view_module_version": "1.2.0",
            "grid_template_areas": null,
            "object_position": null,
            "object_fit": null,
            "grid_auto_columns": null,
            "margin": null,
            "display": null,
            "left": null
          }
        },
        "a0353081ad2446a2b90b07ec3c2b7680": {
          "model_module": "@jupyter-widgets/controls",
          "model_name": "ButtonStyleModel",
          "state": {
            "_view_name": "StyleView",
            "_model_name": "ButtonStyleModel",
            "_view_module": "@jupyter-widgets/base",
            "_model_module_version": "1.5.0",
            "_view_count": null,
            "button_color": null,
            "font_weight": "",
            "_view_module_version": "1.2.0",
            "_model_module": "@jupyter-widgets/controls"
          }
        },
        "9f5c95ed650e448c81687dee961ec638": {
          "model_module": "@jupyter-widgets/base",
          "model_name": "LayoutModel",
          "state": {
            "_view_name": "LayoutView",
            "grid_template_rows": null,
            "right": null,
            "justify_content": null,
            "_view_module": "@jupyter-widgets/base",
            "overflow": null,
            "_model_module_version": "1.2.0",
            "_view_count": null,
            "flex_flow": null,
            "width": null,
            "min_width": null,
            "border": null,
            "align_items": null,
            "bottom": null,
            "_model_module": "@jupyter-widgets/base",
            "top": null,
            "grid_column": null,
            "overflow_y": null,
            "overflow_x": null,
            "grid_auto_flow": null,
            "grid_area": null,
            "grid_template_columns": null,
            "flex": null,
            "_model_name": "LayoutModel",
            "justify_items": null,
            "grid_row": null,
            "max_height": null,
            "align_content": null,
            "visibility": null,
            "align_self": null,
            "height": null,
            "min_height": null,
            "padding": null,
            "grid_auto_rows": null,
            "grid_gap": null,
            "max_width": null,
            "order": null,
            "_view_module_version": "1.2.0",
            "grid_template_areas": null,
            "object_position": null,
            "object_fit": null,
            "grid_auto_columns": null,
            "margin": null,
            "display": null,
            "left": null
          }
        },
        "6b0849f2f9b04b17a73f8439df47053f": {
          "model_module": "@jupyter-widgets/controls",
          "model_name": "ButtonStyleModel",
          "state": {
            "_view_name": "StyleView",
            "_model_name": "ButtonStyleModel",
            "_view_module": "@jupyter-widgets/base",
            "_model_module_version": "1.5.0",
            "_view_count": null,
            "button_color": null,
            "font_weight": "",
            "_view_module_version": "1.2.0",
            "_model_module": "@jupyter-widgets/controls"
          }
        },
        "22018e857ba8417d89debfff3c56fd12": {
          "model_module": "@jupyter-widgets/base",
          "model_name": "LayoutModel",
          "state": {
            "_view_name": "LayoutView",
            "grid_template_rows": null,
            "right": null,
            "justify_content": null,
            "_view_module": "@jupyter-widgets/base",
            "overflow": null,
            "_model_module_version": "1.2.0",
            "_view_count": null,
            "flex_flow": null,
            "width": null,
            "min_width": null,
            "border": null,
            "align_items": null,
            "bottom": null,
            "_model_module": "@jupyter-widgets/base",
            "top": null,
            "grid_column": null,
            "overflow_y": null,
            "overflow_x": null,
            "grid_auto_flow": null,
            "grid_area": null,
            "grid_template_columns": null,
            "flex": null,
            "_model_name": "LayoutModel",
            "justify_items": null,
            "grid_row": null,
            "max_height": null,
            "align_content": null,
            "visibility": null,
            "align_self": null,
            "height": null,
            "min_height": null,
            "padding": null,
            "grid_auto_rows": null,
            "grid_gap": null,
            "max_width": null,
            "order": null,
            "_view_module_version": "1.2.0",
            "grid_template_areas": null,
            "object_position": null,
            "object_fit": null,
            "grid_auto_columns": null,
            "margin": null,
            "display": null,
            "left": null
          }
        },
        "a4afc207d38e4c31908b1f7c3989e3c0": {
          "model_module": "@jupyter-widgets/controls",
          "model_name": "DescriptionStyleModel",
          "state": {
            "_view_name": "StyleView",
            "_model_name": "DescriptionStyleModel",
            "description_width": "",
            "_view_module": "@jupyter-widgets/base",
            "_model_module_version": "1.5.0",
            "_view_count": null,
            "_view_module_version": "1.2.0",
            "_model_module": "@jupyter-widgets/controls"
          }
        },
        "d1022dca900549e3b68fba088f242a06": {
          "model_module": "@jupyter-widgets/base",
          "model_name": "LayoutModel",
          "state": {
            "_view_name": "LayoutView",
            "grid_template_rows": null,
            "right": null,
            "justify_content": null,
            "_view_module": "@jupyter-widgets/base",
            "overflow": null,
            "_model_module_version": "1.2.0",
            "_view_count": null,
            "flex_flow": null,
            "width": null,
            "min_width": null,
            "border": null,
            "align_items": null,
            "bottom": null,
            "_model_module": "@jupyter-widgets/base",
            "top": null,
            "grid_column": null,
            "overflow_y": null,
            "overflow_x": null,
            "grid_auto_flow": null,
            "grid_area": null,
            "grid_template_columns": null,
            "flex": null,
            "_model_name": "LayoutModel",
            "justify_items": null,
            "grid_row": null,
            "max_height": null,
            "align_content": null,
            "visibility": null,
            "align_self": null,
            "height": null,
            "min_height": null,
            "padding": null,
            "grid_auto_rows": null,
            "grid_gap": null,
            "max_width": null,
            "order": null,
            "_view_module_version": "1.2.0",
            "grid_template_areas": null,
            "object_position": null,
            "object_fit": null,
            "grid_auto_columns": null,
            "margin": null,
            "display": null,
            "left": null
          }
        }
      }
    }
  },
  "cells": [
    {
      "cell_type": "code",
      "metadata": {
        "id": "dh_kFtpKJwKC",
        "colab_type": "code",
        "colab": {
          "base_uri": "https://localhost:8080/",
          "height": 34
        },
        "outputId": "2811949a-369f-4d38-bcd7-c9c76a35d40d"
      },
      "source": [
        "from google.colab import drive\n",
        "drive.mount('/content/gdrive')"
      ],
      "execution_count": 1,
      "outputs": [
        {
          "output_type": "stream",
          "text": [
            "Drive already mounted at /content/gdrive; to attempt to forcibly remount, call drive.mount(\"/content/gdrive\", force_remount=True).\n"
          ],
          "name": "stdout"
        }
      ]
    },
    {
      "cell_type": "code",
      "metadata": {
        "id": "I-18vJHkLARQ",
        "colab_type": "code",
        "colab": {
          "base_uri": "https://localhost:8080/",
          "height": 34
        },
        "outputId": "7949d9ee-382a-47d4-c09b-50e490cc8144"
      },
      "source": [
        "!pwd"
      ],
      "execution_count": 2,
      "outputs": [
        {
          "output_type": "stream",
          "text": [
            "/content\n"
          ],
          "name": "stdout"
        }
      ]
    },
    {
      "cell_type": "code",
      "metadata": {
        "id": "5BIVCXm9LCHU",
        "colab_type": "code",
        "colab": {
          "base_uri": "https://localhost:8080/",
          "height": 34
        },
        "outputId": "2427c95e-b6ec-4ab5-f7f3-d018df766a0e"
      },
      "source": [
        "%cd /content/gdrive/My\\ Drive/"
      ],
      "execution_count": 3,
      "outputs": [
        {
          "output_type": "stream",
          "text": [
            "/content/gdrive/My Drive\n"
          ],
          "name": "stdout"
        }
      ]
    },
    {
      "cell_type": "code",
      "metadata": {
        "id": "z2hNFELBLP-e",
        "colab_type": "code",
        "colab": {
          "base_uri": "https://localhost:8080/",
          "height": 34
        },
        "outputId": "91094c34-f1ea-4065-af1e-3ad036a7595e"
      },
      "source": [
        "%cd sandbox/"
      ],
      "execution_count": 4,
      "outputs": [
        {
          "output_type": "stream",
          "text": [
            "/content/gdrive/My Drive/sandbox\n"
          ],
          "name": "stdout"
        }
      ]
    },
    {
      "cell_type": "code",
      "metadata": {
        "id": "-tNE1MdpLct0",
        "colab_type": "code",
        "colab": {
          "base_uri": "https://localhost:8080/",
          "height": 1000
        },
        "outputId": "1cf79eaa-31b5-4dee-925d-32f91320bfac"
      },
      "source": [
        "!pip install -Uqq fastbook\n",
        "!pip install fastbook\n",
        "import fastbook\n",
        "fastbook.setup_book()\n",
        "from fastbook import *\n",
        "from fastai.vision.widgets import *"
      ],
      "execution_count": 5,
      "outputs": [
        {
          "output_type": "stream",
          "text": [
            "\u001b[?25l\r\u001b[K     |▊                               | 10kB 19.0MB/s eta 0:00:01\r\u001b[K     |█▍                              | 20kB 2.2MB/s eta 0:00:01\r\u001b[K     |██▏                             | 30kB 2.9MB/s eta 0:00:01\r\u001b[K     |██▉                             | 40kB 3.2MB/s eta 0:00:01\r\u001b[K     |███▋                            | 51kB 2.6MB/s eta 0:00:01\r\u001b[K     |████▎                           | 61kB 2.8MB/s eta 0:00:01\r\u001b[K     |█████                           | 71kB 3.1MB/s eta 0:00:01\r\u001b[K     |█████▊                          | 81kB 3.4MB/s eta 0:00:01\r\u001b[K     |██████▌                         | 92kB 3.6MB/s eta 0:00:01\r\u001b[K     |███████▏                        | 102kB 3.5MB/s eta 0:00:01\r\u001b[K     |████████                        | 112kB 3.5MB/s eta 0:00:01\r\u001b[K     |████████▋                       | 122kB 3.5MB/s eta 0:00:01\r\u001b[K     |█████████▍                      | 133kB 3.5MB/s eta 0:00:01\r\u001b[K     |██████████                      | 143kB 3.5MB/s eta 0:00:01\r\u001b[K     |██████████▉                     | 153kB 3.5MB/s eta 0:00:01\r\u001b[K     |███████████▌                    | 163kB 3.5MB/s eta 0:00:01\r\u001b[K     |████████████▎                   | 174kB 3.5MB/s eta 0:00:01\r\u001b[K     |█████████████                   | 184kB 3.5MB/s eta 0:00:01\r\u001b[K     |█████████████▊                  | 194kB 3.5MB/s eta 0:00:01\r\u001b[K     |██████████████▍                 | 204kB 3.5MB/s eta 0:00:01\r\u001b[K     |███████████████▏                | 215kB 3.5MB/s eta 0:00:01\r\u001b[K     |███████████████▉                | 225kB 3.5MB/s eta 0:00:01\r\u001b[K     |████████████████▋               | 235kB 3.5MB/s eta 0:00:01\r\u001b[K     |█████████████████▎              | 245kB 3.5MB/s eta 0:00:01\r\u001b[K     |██████████████████              | 256kB 3.5MB/s eta 0:00:01\r\u001b[K     |██████████████████▊             | 266kB 3.5MB/s eta 0:00:01\r\u001b[K     |███████████████████▍            | 276kB 3.5MB/s eta 0:00:01\r\u001b[K     |████████████████████▏           | 286kB 3.5MB/s eta 0:00:01\r\u001b[K     |████████████████████▉           | 296kB 3.5MB/s eta 0:00:01\r\u001b[K     |█████████████████████▋          | 307kB 3.5MB/s eta 0:00:01\r\u001b[K     |██████████████████████▎         | 317kB 3.5MB/s eta 0:00:01\r\u001b[K     |███████████████████████         | 327kB 3.5MB/s eta 0:00:01\r\u001b[K     |███████████████████████▊        | 337kB 3.5MB/s eta 0:00:01\r\u001b[K     |████████████████████████▌       | 348kB 3.5MB/s eta 0:00:01\r\u001b[K     |█████████████████████████▏      | 358kB 3.5MB/s eta 0:00:01\r\u001b[K     |██████████████████████████      | 368kB 3.5MB/s eta 0:00:01\r\u001b[K     |██████████████████████████▋     | 378kB 3.5MB/s eta 0:00:01\r\u001b[K     |███████████████████████████▍    | 389kB 3.5MB/s eta 0:00:01\r\u001b[K     |████████████████████████████    | 399kB 3.5MB/s eta 0:00:01\r\u001b[K     |████████████████████████████▉   | 409kB 3.5MB/s eta 0:00:01\r\u001b[K     |█████████████████████████████▌  | 419kB 3.5MB/s eta 0:00:01\r\u001b[K     |██████████████████████████████▎ | 430kB 3.5MB/s eta 0:00:01\r\u001b[K     |███████████████████████████████ | 440kB 3.5MB/s eta 0:00:01\r\u001b[K     |███████████████████████████████▊| 450kB 3.5MB/s eta 0:00:01\r\u001b[K     |████████████████████████████████| 460kB 3.5MB/s \n",
            "\u001b[31mERROR: voila 0.2.3 has requirement nbconvert<7,>=6.0.0, but you'll have nbconvert 5.6.1 which is incompatible.\u001b[0m\n",
            "\u001b[?25hRequirement already satisfied: fastbook in /usr/local/lib/python3.6/dist-packages (0.0.11)\n",
            "Requirement already satisfied: fastai>=2.0 in /usr/local/lib/python3.6/dist-packages (from fastbook) (2.0.13)\n",
            "Requirement already satisfied: ipywidgets in /usr/local/lib/python3.6/dist-packages (from fastbook) (7.5.1)\n",
            "Requirement already satisfied: packaging in /usr/local/lib/python3.6/dist-packages (from fastbook) (20.4)\n",
            "Requirement already satisfied: azure-cognitiveservices-search-imagesearch in /usr/local/lib/python3.6/dist-packages (from fastbook) (2.0.0)\n",
            "Requirement already satisfied: sentencepiece<0.1.90 in /usr/local/lib/python3.6/dist-packages (from fastbook) (0.1.86)\n",
            "Requirement already satisfied: nbdev>=0.2.38 in /usr/local/lib/python3.6/dist-packages (from fastbook) (1.0.18)\n",
            "Requirement already satisfied: pip in /usr/local/lib/python3.6/dist-packages (from fastbook) (19.3.1)\n",
            "Requirement already satisfied: pandas in /usr/local/lib/python3.6/dist-packages (from fastbook) (1.0.5)\n",
            "Requirement already satisfied: pillow in /usr/local/lib/python3.6/dist-packages (from fastai>=2.0->fastbook) (7.0.0)\n",
            "Requirement already satisfied: scipy in /usr/local/lib/python3.6/dist-packages (from fastai>=2.0->fastbook) (1.4.1)\n",
            "Requirement already satisfied: torchvision>=0.7 in /usr/local/lib/python3.6/dist-packages (from fastai>=2.0->fastbook) (0.7.0+cu101)\n",
            "Requirement already satisfied: matplotlib in /usr/local/lib/python3.6/dist-packages (from fastai>=2.0->fastbook) (3.2.2)\n",
            "Requirement already satisfied: requests in /usr/local/lib/python3.6/dist-packages (from fastai>=2.0->fastbook) (2.23.0)\n",
            "Requirement already satisfied: torch>=1.6.0 in /usr/local/lib/python3.6/dist-packages (from fastai>=2.0->fastbook) (1.6.0+cu101)\n",
            "Requirement already satisfied: fastcore>=1.0.5 in /usr/local/lib/python3.6/dist-packages (from fastai>=2.0->fastbook) (1.0.14)\n",
            "Requirement already satisfied: fastprogress>=0.2.4 in /usr/local/lib/python3.6/dist-packages (from fastai>=2.0->fastbook) (1.0.0)\n",
            "Requirement already satisfied: spacy in /usr/local/lib/python3.6/dist-packages (from fastai>=2.0->fastbook) (2.2.4)\n",
            "Requirement already satisfied: scikit-learn in /usr/local/lib/python3.6/dist-packages (from fastai>=2.0->fastbook) (0.22.2.post1)\n",
            "Requirement already satisfied: pyyaml in /usr/local/lib/python3.6/dist-packages (from fastai>=2.0->fastbook) (3.13)\n",
            "Requirement already satisfied: ipykernel>=4.5.1 in /usr/local/lib/python3.6/dist-packages (from ipywidgets->fastbook) (4.10.1)\n",
            "Requirement already satisfied: traitlets>=4.3.1 in /usr/local/lib/python3.6/dist-packages (from ipywidgets->fastbook) (4.3.3)\n",
            "Requirement already satisfied: ipython>=4.0.0; python_version >= \"3.3\" in /usr/local/lib/python3.6/dist-packages (from ipywidgets->fastbook) (5.5.0)\n",
            "Requirement already satisfied: nbformat>=4.2.0 in /usr/local/lib/python3.6/dist-packages (from ipywidgets->fastbook) (5.0.7)\n",
            "Requirement already satisfied: widgetsnbextension~=3.5.0 in /usr/local/lib/python3.6/dist-packages (from ipywidgets->fastbook) (3.5.1)\n",
            "Requirement already satisfied: six in /usr/local/lib/python3.6/dist-packages (from packaging->fastbook) (1.15.0)\n",
            "Requirement already satisfied: pyparsing>=2.0.2 in /usr/local/lib/python3.6/dist-packages (from packaging->fastbook) (2.4.7)\n",
            "Requirement already satisfied: azure-common~=1.1 in /usr/local/lib/python3.6/dist-packages (from azure-cognitiveservices-search-imagesearch->fastbook) (1.1.25)\n",
            "Requirement already satisfied: msrest>=0.5.0 in /usr/local/lib/python3.6/dist-packages (from azure-cognitiveservices-search-imagesearch->fastbook) (0.6.19)\n",
            "Requirement already satisfied: msrestazure<2.0.0,>=0.4.32 in /usr/local/lib/python3.6/dist-packages (from azure-cognitiveservices-search-imagesearch->fastbook) (0.6.4)\n",
            "Requirement already satisfied: jupyter-client in /usr/local/lib/python3.6/dist-packages (from nbdev>=0.2.38->fastbook) (6.1.7)\n",
            "Requirement already satisfied: nbconvert<6 in /usr/local/lib/python3.6/dist-packages (from nbdev>=0.2.38->fastbook) (5.6.1)\n",
            "Requirement already satisfied: fastscript>=1.0.0 in /usr/local/lib/python3.6/dist-packages (from nbdev>=0.2.38->fastbook) (1.0.0)\n",
            "Requirement already satisfied: pytz>=2017.2 in /usr/local/lib/python3.6/dist-packages (from pandas->fastbook) (2018.9)\n",
            "Requirement already satisfied: python-dateutil>=2.6.1 in /usr/local/lib/python3.6/dist-packages (from pandas->fastbook) (2.8.1)\n",
            "Requirement already satisfied: numpy>=1.13.3 in /usr/local/lib/python3.6/dist-packages (from pandas->fastbook) (1.18.5)\n",
            "Requirement already satisfied: cycler>=0.10 in /usr/local/lib/python3.6/dist-packages (from matplotlib->fastai>=2.0->fastbook) (0.10.0)\n",
            "Requirement already satisfied: kiwisolver>=1.0.1 in /usr/local/lib/python3.6/dist-packages (from matplotlib->fastai>=2.0->fastbook) (1.2.0)\n",
            "Requirement already satisfied: urllib3!=1.25.0,!=1.25.1,<1.26,>=1.21.1 in /usr/local/lib/python3.6/dist-packages (from requests->fastai>=2.0->fastbook) (1.24.3)\n",
            "Requirement already satisfied: certifi>=2017.4.17 in /usr/local/lib/python3.6/dist-packages (from requests->fastai>=2.0->fastbook) (2020.6.20)\n",
            "Requirement already satisfied: idna<3,>=2.5 in /usr/local/lib/python3.6/dist-packages (from requests->fastai>=2.0->fastbook) (2.10)\n",
            "Requirement already satisfied: chardet<4,>=3.0.2 in /usr/local/lib/python3.6/dist-packages (from requests->fastai>=2.0->fastbook) (3.0.4)\n",
            "Requirement already satisfied: future in /usr/local/lib/python3.6/dist-packages (from torch>=1.6.0->fastai>=2.0->fastbook) (0.16.0)\n",
            "Requirement already satisfied: preshed<3.1.0,>=3.0.2 in /usr/local/lib/python3.6/dist-packages (from spacy->fastai>=2.0->fastbook) (3.0.2)\n",
            "Requirement already satisfied: cymem<2.1.0,>=2.0.2 in /usr/local/lib/python3.6/dist-packages (from spacy->fastai>=2.0->fastbook) (2.0.3)\n",
            "Requirement already satisfied: blis<0.5.0,>=0.4.0 in /usr/local/lib/python3.6/dist-packages (from spacy->fastai>=2.0->fastbook) (0.4.1)\n",
            "Requirement already satisfied: thinc==7.4.0 in /usr/local/lib/python3.6/dist-packages (from spacy->fastai>=2.0->fastbook) (7.4.0)\n",
            "Requirement already satisfied: catalogue<1.1.0,>=0.0.7 in /usr/local/lib/python3.6/dist-packages (from spacy->fastai>=2.0->fastbook) (1.0.0)\n",
            "Requirement already satisfied: plac<1.2.0,>=0.9.6 in /usr/local/lib/python3.6/dist-packages (from spacy->fastai>=2.0->fastbook) (1.1.3)\n",
            "Requirement already satisfied: murmurhash<1.1.0,>=0.28.0 in /usr/local/lib/python3.6/dist-packages (from spacy->fastai>=2.0->fastbook) (1.0.2)\n",
            "Requirement already satisfied: wasabi<1.1.0,>=0.4.0 in /usr/local/lib/python3.6/dist-packages (from spacy->fastai>=2.0->fastbook) (0.8.0)\n",
            "Requirement already satisfied: setuptools in /usr/local/lib/python3.6/dist-packages (from spacy->fastai>=2.0->fastbook) (50.3.0)\n",
            "Requirement already satisfied: tqdm<5.0.0,>=4.38.0 in /usr/local/lib/python3.6/dist-packages (from spacy->fastai>=2.0->fastbook) (4.41.1)\n",
            "Requirement already satisfied: srsly<1.1.0,>=1.0.2 in /usr/local/lib/python3.6/dist-packages (from spacy->fastai>=2.0->fastbook) (1.0.2)\n",
            "Requirement already satisfied: joblib>=0.11 in /usr/local/lib/python3.6/dist-packages (from scikit-learn->fastai>=2.0->fastbook) (0.16.0)\n",
            "Requirement already satisfied: tornado>=4.0 in /usr/local/lib/python3.6/dist-packages (from ipykernel>=4.5.1->ipywidgets->fastbook) (5.1.1)\n",
            "Requirement already satisfied: ipython-genutils in /usr/local/lib/python3.6/dist-packages (from traitlets>=4.3.1->ipywidgets->fastbook) (0.2.0)\n",
            "Requirement already satisfied: decorator in /usr/local/lib/python3.6/dist-packages (from traitlets>=4.3.1->ipywidgets->fastbook) (4.4.2)\n",
            "Requirement already satisfied: pickleshare in /usr/local/lib/python3.6/dist-packages (from ipython>=4.0.0; python_version >= \"3.3\"->ipywidgets->fastbook) (0.7.5)\n",
            "Requirement already satisfied: prompt-toolkit<2.0.0,>=1.0.4 in /usr/local/lib/python3.6/dist-packages (from ipython>=4.0.0; python_version >= \"3.3\"->ipywidgets->fastbook) (1.0.18)\n",
            "Requirement already satisfied: simplegeneric>0.8 in /usr/local/lib/python3.6/dist-packages (from ipython>=4.0.0; python_version >= \"3.3\"->ipywidgets->fastbook) (0.8.1)\n",
            "Requirement already satisfied: pygments in /usr/local/lib/python3.6/dist-packages (from ipython>=4.0.0; python_version >= \"3.3\"->ipywidgets->fastbook) (2.6.1)\n",
            "Requirement already satisfied: pexpect; sys_platform != \"win32\" in /usr/local/lib/python3.6/dist-packages (from ipython>=4.0.0; python_version >= \"3.3\"->ipywidgets->fastbook) (4.8.0)\n",
            "Requirement already satisfied: jsonschema!=2.5.0,>=2.4 in /usr/local/lib/python3.6/dist-packages (from nbformat>=4.2.0->ipywidgets->fastbook) (2.6.0)\n",
            "Requirement already satisfied: jupyter-core in /usr/local/lib/python3.6/dist-packages (from nbformat>=4.2.0->ipywidgets->fastbook) (4.6.3)\n",
            "Requirement already satisfied: notebook>=4.4.1 in /usr/local/lib/python3.6/dist-packages (from widgetsnbextension~=3.5.0->ipywidgets->fastbook) (5.3.1)\n",
            "Requirement already satisfied: requests-oauthlib>=0.5.0 in /usr/local/lib/python3.6/dist-packages (from msrest>=0.5.0->azure-cognitiveservices-search-imagesearch->fastbook) (1.3.0)\n",
            "Requirement already satisfied: isodate>=0.6.0 in /usr/local/lib/python3.6/dist-packages (from msrest>=0.5.0->azure-cognitiveservices-search-imagesearch->fastbook) (0.6.0)\n",
            "Requirement already satisfied: adal<2.0.0,>=0.6.0 in /usr/local/lib/python3.6/dist-packages (from msrestazure<2.0.0,>=0.4.32->azure-cognitiveservices-search-imagesearch->fastbook) (1.2.4)\n",
            "Requirement already satisfied: pyzmq>=13 in /usr/local/lib/python3.6/dist-packages (from jupyter-client->nbdev>=0.2.38->fastbook) (19.0.2)\n",
            "Requirement already satisfied: bleach in /usr/local/lib/python3.6/dist-packages (from nbconvert<6->nbdev>=0.2.38->fastbook) (3.2.0)\n",
            "Requirement already satisfied: jinja2>=2.4 in /usr/local/lib/python3.6/dist-packages (from nbconvert<6->nbdev>=0.2.38->fastbook) (2.11.2)\n",
            "Requirement already satisfied: pandocfilters>=1.4.1 in /usr/local/lib/python3.6/dist-packages (from nbconvert<6->nbdev>=0.2.38->fastbook) (1.4.2)\n",
            "Requirement already satisfied: entrypoints>=0.2.2 in /usr/local/lib/python3.6/dist-packages (from nbconvert<6->nbdev>=0.2.38->fastbook) (0.3)\n",
            "Requirement already satisfied: mistune<2,>=0.8.1 in /usr/local/lib/python3.6/dist-packages (from nbconvert<6->nbdev>=0.2.38->fastbook) (0.8.4)\n",
            "Requirement already satisfied: defusedxml in /usr/local/lib/python3.6/dist-packages (from nbconvert<6->nbdev>=0.2.38->fastbook) (0.6.0)\n",
            "Requirement already satisfied: testpath in /usr/local/lib/python3.6/dist-packages (from nbconvert<6->nbdev>=0.2.38->fastbook) (0.4.4)\n",
            "Requirement already satisfied: importlib-metadata>=0.20; python_version < \"3.8\" in /usr/local/lib/python3.6/dist-packages (from catalogue<1.1.0,>=0.0.7->spacy->fastai>=2.0->fastbook) (1.7.0)\n",
            "Requirement already satisfied: wcwidth in /usr/local/lib/python3.6/dist-packages (from prompt-toolkit<2.0.0,>=1.0.4->ipython>=4.0.0; python_version >= \"3.3\"->ipywidgets->fastbook) (0.2.5)\n",
            "Requirement already satisfied: ptyprocess>=0.5 in /usr/local/lib/python3.6/dist-packages (from pexpect; sys_platform != \"win32\"->ipython>=4.0.0; python_version >= \"3.3\"->ipywidgets->fastbook) (0.6.0)\n",
            "Requirement already satisfied: terminado>=0.8.1 in /usr/local/lib/python3.6/dist-packages (from notebook>=4.4.1->widgetsnbextension~=3.5.0->ipywidgets->fastbook) (0.8.3)\n",
            "Requirement already satisfied: Send2Trash in /usr/local/lib/python3.6/dist-packages (from notebook>=4.4.1->widgetsnbextension~=3.5.0->ipywidgets->fastbook) (1.5.0)\n",
            "Requirement already satisfied: oauthlib>=3.0.0 in /usr/local/lib/python3.6/dist-packages (from requests-oauthlib>=0.5.0->msrest>=0.5.0->azure-cognitiveservices-search-imagesearch->fastbook) (3.1.0)\n",
            "Requirement already satisfied: PyJWT>=1.0.0 in /usr/local/lib/python3.6/dist-packages (from adal<2.0.0,>=0.6.0->msrestazure<2.0.0,>=0.4.32->azure-cognitiveservices-search-imagesearch->fastbook) (1.7.1)\n",
            "Requirement already satisfied: cryptography>=1.1.0 in /usr/local/lib/python3.6/dist-packages (from adal<2.0.0,>=0.6.0->msrestazure<2.0.0,>=0.4.32->azure-cognitiveservices-search-imagesearch->fastbook) (3.1.1)\n",
            "Requirement already satisfied: webencodings in /usr/local/lib/python3.6/dist-packages (from bleach->nbconvert<6->nbdev>=0.2.38->fastbook) (0.5.1)\n",
            "Requirement already satisfied: MarkupSafe>=0.23 in /usr/local/lib/python3.6/dist-packages (from jinja2>=2.4->nbconvert<6->nbdev>=0.2.38->fastbook) (1.1.1)\n",
            "Requirement already satisfied: zipp>=0.5 in /usr/local/lib/python3.6/dist-packages (from importlib-metadata>=0.20; python_version < \"3.8\"->catalogue<1.1.0,>=0.0.7->spacy->fastai>=2.0->fastbook) (3.1.0)\n",
            "Requirement already satisfied: cffi!=1.11.3,>=1.8 in /usr/local/lib/python3.6/dist-packages (from cryptography>=1.1.0->adal<2.0.0,>=0.6.0->msrestazure<2.0.0,>=0.4.32->azure-cognitiveservices-search-imagesearch->fastbook) (1.14.2)\n",
            "Requirement already satisfied: pycparser in /usr/local/lib/python3.6/dist-packages (from cffi!=1.11.3,>=1.8->cryptography>=1.1.0->adal<2.0.0,>=0.6.0->msrestazure<2.0.0,>=0.4.32->azure-cognitiveservices-search-imagesearch->fastbook) (2.20)\n"
          ],
          "name": "stdout"
        }
      ]
    },
    {
      "cell_type": "code",
      "metadata": {
        "id": "V3OMxW52MFQX",
        "colab_type": "code",
        "colab": {
          "base_uri": "https://localhost:8080/",
          "height": 34
        },
        "outputId": "81ec2a2f-a258-44f7-a08b-74d2f939833c"
      },
      "source": [
        "path = Path()\n",
        "path.ls(file_exts='.pkl')"
      ],
      "execution_count": 6,
      "outputs": [
        {
          "output_type": "execute_result",
          "data": {
            "text/plain": [
              "(#1) [Path('export.pkl')]"
            ]
          },
          "metadata": {
            "tags": []
          },
          "execution_count": 6
        }
      ]
    },
    {
      "cell_type": "code",
      "metadata": {
        "id": "HTsaXU_2MS4J",
        "colab_type": "code",
        "colab": {}
      },
      "source": [
        "learn_inf = load_learner(path/'export.pkl')"
      ],
      "execution_count": 7,
      "outputs": []
    },
    {
      "cell_type": "code",
      "metadata": {
        "id": "Ggr0avunMWqj",
        "colab_type": "code",
        "colab": {
          "base_uri": "https://localhost:8080/",
          "height": 49,
          "referenced_widgets": [
            "77677603663c49b78cf5dca4afb28cea",
            "2732246db9b743dba01d8f23a8ca1a86",
            "6333b4167ae6433ca548496fd77c66f3"
          ]
        },
        "outputId": "e4b2da32-1e28-4c14-8168-fd423a3359cc"
      },
      "source": [
        "btn_upload = widgets.FileUpload()\n",
        "btn_upload"
      ],
      "execution_count": 10,
      "outputs": [
        {
          "output_type": "display_data",
          "data": {
            "application/vnd.jupyter.widget-view+json": {
              "model_id": "77677603663c49b78cf5dca4afb28cea",
              "version_minor": 0,
              "version_major": 2
            },
            "text/plain": [
              "FileUpload(value={}, description='Upload')"
            ]
          },
          "metadata": {
            "tags": []
          }
        }
      ]
    },
    {
      "cell_type": "code",
      "metadata": {
        "id": "fGRZ26xiMb7b",
        "colab_type": "code",
        "colab": {
          "base_uri": "https://localhost:8080/",
          "height": 89,
          "referenced_widgets": [
            "31873e7ff8734bccbf3b4e1290c2cffc",
            "11643438504e4f8abd8b3580d9de7f0e"
          ]
        },
        "outputId": "5d3aa6a2-ec2e-4b19-e774-835d370e60cb"
      },
      "source": [
        "img = PILImage.create(btn_upload.data[-1])\n",
        "out_pl = widgets.Output()\n",
        "out_pl.clear_output()\n",
        "with out_pl: \n",
        "    display(img.to_thumb(128,128))\n",
        "out_pl"
      ],
      "execution_count": 11,
      "outputs": [
        {
          "output_type": "display_data",
          "data": {
            "application/vnd.jupyter.widget-view+json": {
              "model_id": "31873e7ff8734bccbf3b4e1290c2cffc",
              "version_minor": 0,
              "version_major": 2
            },
            "text/plain": [
              "Output()"
            ]
          },
          "metadata": {
            "tags": []
          }
        }
      ]
    },
    {
      "cell_type": "code",
      "metadata": {
        "id": "ZFhpUFPkMwvT",
        "colab_type": "code",
        "colab": {
          "base_uri": "https://localhost:8080/",
          "height": 34
        },
        "outputId": "4ba48cfd-861b-4765-8b3c-70b68fb1334f"
      },
      "source": [
        "pred,pred_idx,probs = learn_inf.predict(img)\n",
        "lbl_pred = widgets.Label()\n",
        "lbl_pred.value = f'Prediction: {pred}; Probability: {probs[pred_idx]:.04f}'\n",
        "print(lbl_pred)\n",
        "\n",
        "# Button widget\n",
        "btn_run = widgets.Button(description='Classify')\n",
        "btn_run\n",
        "\n",
        "def on_click_classify(change):\n",
        "    img = PILImage.create(btn_upload.data[-1])\n",
        "    out_pl.clear_output()\n",
        "    with out_pl: \n",
        "        display(img.to_thumb(128,128))\n",
        "    pred,pred_idx,probs = learn_inf.predict(img)\n",
        "    lbl_pred.value = f'Prediction: {pred}; Probability: {probs[pred_idx]:.04f}'\n",
        "\n",
        "btn_run.on_click(on_click_classify)"
      ],
      "execution_count": 12,
      "outputs": [
        {
          "output_type": "display_data",
          "data": {
            "text/html": [
              ""
            ],
            "text/plain": [
              "<IPython.core.display.HTML object>"
            ]
          },
          "metadata": {
            "tags": []
          }
        },
        {
          "output_type": "stream",
          "text": [
            "Label(value='Prediction: formula_one; Probability: 0.9993')\n"
          ],
          "name": "stdout"
        }
      ]
    },
    {
      "cell_type": "code",
      "metadata": {
        "id": "owVg0kVHNL-i",
        "colab_type": "code",
        "colab": {
          "base_uri": "https://localhost:8080/",
          "height": 217,
          "referenced_widgets": [
            "735b026da95d457f9dcd8b1026a1491d",
            "399266dea0c74a389a3b8e26c736b3eb",
            "acbf0cef574847ff9931c1ef6d719f5e",
            "e5181ecab18b4575861a6572057c5b74",
            "fbe69cf6085b45b7ad2ad04403b3d3cd",
            "31873e7ff8734bccbf3b4e1290c2cffc",
            "a08aa9884fc644868ce531fca34d8d9d",
            "df3023e65c604536b5ea7861e18738bb",
            "addc39d0c88b41cbb811a7594e137e2b",
            "a0353081ad2446a2b90b07ec3c2b7680",
            "9f5c95ed650e448c81687dee961ec638",
            "6b0849f2f9b04b17a73f8439df47053f",
            "22018e857ba8417d89debfff3c56fd12",
            "a4afc207d38e4c31908b1f7c3989e3c0",
            "d1022dca900549e3b68fba088f242a06",
            "11643438504e4f8abd8b3580d9de7f0e"
          ]
        },
        "outputId": "7adccd8f-ae0d-43b3-b3e3-7dd7bbcf67f5"
      },
      "source": [
        "#Putting back btn_upload to a widget for next cell\n",
        "btn_upload = widgets.FileUpload()\n",
        "VBox([widgets.Label('Select your car!'), btn_upload, btn_run, out_pl, lbl_pred])"
      ],
      "execution_count": 13,
      "outputs": [
        {
          "output_type": "display_data",
          "data": {
            "application/vnd.jupyter.widget-view+json": {
              "model_id": "735b026da95d457f9dcd8b1026a1491d",
              "version_minor": 0,
              "version_major": 2
            },
            "text/plain": [
              "VBox(children=(Label(value='Select your car!'), FileUpload(value={}, description='Upload'), Button(description…"
            ]
          },
          "metadata": {
            "tags": []
          }
        },
        {
          "output_type": "display_data",
          "data": {
            "text/html": [
              ""
            ],
            "text/plain": [
              "<IPython.core.display.HTML object>"
            ]
          },
          "metadata": {
            "tags": []
          }
        }
      ]
    },
    {
      "cell_type": "code",
      "metadata": {
        "id": "kdf6NHvfNrdN",
        "colab_type": "code",
        "colab": {}
      },
      "source": [
        "# !pip install voila\n",
        "# !jupyter serverextension enable voila —sys-prefix"
      ],
      "execution_count": null,
      "outputs": []
    }
  ]
}